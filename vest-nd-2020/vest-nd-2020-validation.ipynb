{
 "cells": [
  {
   "cell_type": "code",
   "execution_count": 1,
   "id": "2c54ad58",
   "metadata": {},
   "outputs": [],
   "source": [
    "import pandas as pd\n",
    "import geopandas as gp\n",
    "import numpy as np \n",
    "import os\n",
    "import fiona\n",
    "from statistics import mean, median\n",
    "import string\n",
    "import sys"
   ]
  },
  {
   "cell_type": "markdown",
   "id": "267d00f2",
   "metadata": {},
   "source": [
    "# Precinct Shapefile\n",
    "---\n",
    "## VEST's Documentation File\n",
    "\n",
    "\n",
    "Election results from North Dakota Secretary of State (https://results.sos.nd.gov/Default.aspx).\n",
    "Precinct shapefile from the U.S. Census Bureau's 2020 Redistricting Data Program.\n",
    "\n",
    "Precincts in the following cities were edited to align with 2020 corporate boundaries: Bismarck, Bottineau, Bowman, Carrington, Devils Lake, Elgin, Dickinson, Grand Forks, Jamestown, Killdeer, Lincoln, Minot, Valley City, Watford. New Town and Stanley were edited to match the voter file.\n",
    "\n",
    "The following additional modifications were made to recreate the 2020 precinct boundaries.\n",
    "\n",
    "Burleigh: Merge 32-04 into 32-03, 32-05/06/07 as 32-04 \\\n",
    "Grant: Merge 31-01/31-04 as Rural Grant \\\n",
    "Mercer: Add wards for Beulah and Hazen \\\n",
    "Mountrail: Merge 04-04/04-06 as Precinct 5 \\\n",
    "Oliver: Adjust Center 2/7 to match county map \\\n",
    "Pierce: Align Rugby wards with 2015 ordinance \\\n",
    "Richland: Merge 25-03/25-10 as Wahpeton Comm Center \\\n",
    "Ward: Merge 40-01/40-02 as Ruthville\n",
    "\n",
    "* G20PRERTRU - Donald J. Trump (Republican Party)\n",
    "* G20PREDBID - Joseph R. Biden (Democratic Party)\n",
    "* G20PRELJOR - Jo Jorgensen (Libertarian Party)\n",
    "* G20PREOWRI - Write-in Votes\n",
    "\n",
    "\n",
    "* G20HALRARM - Kelly Armstrong (Republican Party)\n",
    "* G20HALDRAK - Zach Raknerud (Democratic-Nonpartisan League Party)\n",
    "* G20HALLPET - Steven James Peterson (Libertarian Party)\n",
    "* G20HALOWRI - Write-in Votes\n",
    "\n",
    "\n",
    "* G20GOVRBUR - Doug Burgum (Republican Party)\n",
    "* G20GOVDLEN - Shelley Lenz (Democratic-Nonpartisan League Party)\n",
    "* G20GOVLHEN - DuWayne Hendrickson (Libertarian Party)\n",
    "* G20GOVOWRI - Write-in Votes\n",
    "\n",
    "\n",
    "* G20AUDRGAL - Joshua C. Gallion (Republican Party)\n",
    "* G20AUDDHAR - Patrick Hart (Democratic-Nonpartisan League Party)\n",
    "* G20AUDOWRI - Write-in Votes\n",
    "\n",
    "\n",
    "* G20TRERBEA - Thomas Beadle (Republican Party)\n",
    "* G20TREDHAU - Mark Haugen (Democratic-Nonpartisan League Party)\n",
    "* G20TREOWRI - Write-in Votes\n",
    "\n",
    "\n",
    "* G20INSRGOD - Jon Godfread (Republican Party)\n",
    "* G20INSOWRI - Write-in Votes\n",
    "\n",
    "\n",
    "* G20PSCRKRO - Brian Kroshus (Republican Party)\n",
    "* G20PSCDBUC - Casey D. Buchmann (Democratic-Nonpartisan League Party)\n",
    "* G20PSCOWRI - Write-in Votes"
   ]
  },
  {
   "cell_type": "markdown",
   "id": "381e9798",
   "metadata": {},
   "source": [
    "## Load in VEST's Final File"
   ]
  },
  {
   "cell_type": "code",
   "execution_count": 2,
   "id": "319e57b2",
   "metadata": {},
   "outputs": [],
   "source": [
    "vest_shp = gp.read_file(\"./raw-from-source/VEST/nd_2020/nd_2020.shp\")"
   ]
  },
  {
   "cell_type": "code",
   "execution_count": 3,
   "id": "674c87c1",
   "metadata": {},
   "outputs": [
    {
     "data": {
      "text/plain": [
       "(422, 27)"
      ]
     },
     "execution_count": 3,
     "metadata": {},
     "output_type": "execute_result"
    }
   ],
   "source": [
    "vest_shp.shape"
   ]
  },
  {
   "cell_type": "code",
   "execution_count": 4,
   "id": "62baf721",
   "metadata": {},
   "outputs": [
    {
     "data": {
      "text/html": [
       "<div>\n",
       "<style scoped>\n",
       "    .dataframe tbody tr th:only-of-type {\n",
       "        vertical-align: middle;\n",
       "    }\n",
       "\n",
       "    .dataframe tbody tr th {\n",
       "        vertical-align: top;\n",
       "    }\n",
       "\n",
       "    .dataframe thead th {\n",
       "        text-align: right;\n",
       "    }\n",
       "</style>\n",
       "<table border=\"1\" class=\"dataframe\">\n",
       "  <thead>\n",
       "    <tr style=\"text-align: right;\">\n",
       "      <th></th>\n",
       "      <th>STATEFP</th>\n",
       "      <th>COUNTYFP</th>\n",
       "      <th>PRECINCT</th>\n",
       "      <th>G20PRERTRU</th>\n",
       "      <th>G20PREDBID</th>\n",
       "      <th>G20PRELJOR</th>\n",
       "      <th>G20PREOWRI</th>\n",
       "      <th>G20HALRARM</th>\n",
       "      <th>G20HALDRAK</th>\n",
       "      <th>G20HALLPET</th>\n",
       "      <th>...</th>\n",
       "      <th>G20AUDOWRI</th>\n",
       "      <th>G20TRERBEA</th>\n",
       "      <th>G20TREDHAU</th>\n",
       "      <th>G20TREOWRI</th>\n",
       "      <th>G20INSRGOD</th>\n",
       "      <th>G20INSOWRI</th>\n",
       "      <th>G20PSCRKRO</th>\n",
       "      <th>G20PSCDBUC</th>\n",
       "      <th>G20PSCOWRI</th>\n",
       "      <th>geometry</th>\n",
       "    </tr>\n",
       "  </thead>\n",
       "  <tbody>\n",
       "    <tr>\n",
       "      <th>0</th>\n",
       "      <td>38</td>\n",
       "      <td>021</td>\n",
       "      <td>Precinct 03</td>\n",
       "      <td>894</td>\n",
       "      <td>361</td>\n",
       "      <td>31</td>\n",
       "      <td>3</td>\n",
       "      <td>909</td>\n",
       "      <td>324</td>\n",
       "      <td>39</td>\n",
       "      <td>...</td>\n",
       "      <td>0</td>\n",
       "      <td>861</td>\n",
       "      <td>397</td>\n",
       "      <td>0</td>\n",
       "      <td>1107</td>\n",
       "      <td>22</td>\n",
       "      <td>838</td>\n",
       "      <td>382</td>\n",
       "      <td>1</td>\n",
       "      <td>POLYGON ((-98.38230 45.93720, -98.38227 45.938...</td>\n",
       "    </tr>\n",
       "  </tbody>\n",
       "</table>\n",
       "<p>1 rows × 27 columns</p>\n",
       "</div>"
      ],
      "text/plain": [
       "  STATEFP COUNTYFP     PRECINCT  G20PRERTRU  G20PREDBID  G20PRELJOR  \\\n",
       "0      38      021  Precinct 03         894         361          31   \n",
       "\n",
       "   G20PREOWRI  G20HALRARM  G20HALDRAK  G20HALLPET  ...  G20AUDOWRI  \\\n",
       "0           3         909         324          39  ...           0   \n",
       "\n",
       "   G20TRERBEA  G20TREDHAU  G20TREOWRI  G20INSRGOD  G20INSOWRI  G20PSCRKRO  \\\n",
       "0         861         397           0        1107          22         838   \n",
       "\n",
       "   G20PSCDBUC  G20PSCOWRI                                           geometry  \n",
       "0         382           1  POLYGON ((-98.38230 45.93720, -98.38227 45.938...  \n",
       "\n",
       "[1 rows x 27 columns]"
      ]
     },
     "execution_count": 4,
     "metadata": {},
     "output_type": "execute_result"
    }
   ],
   "source": [
    "vest_shp.head(1)"
   ]
  },
  {
   "cell_type": "code",
   "execution_count": 5,
   "id": "9b46eb2a",
   "metadata": {},
   "outputs": [
    {
     "data": {
      "text/plain": [
       "<AxesSubplot:>"
      ]
     },
     "execution_count": 5,
     "metadata": {},
     "output_type": "execute_result"
    },
    {
     "data": {
      "image/png": "[encoded data removed]",
      "text/plain": [
       "<Figure size 432x288 with 1 Axes>"
      ]
     },
     "metadata": {
      "needs_background": "light"
     },
     "output_type": "display_data"
    }
   ],
   "source": [
    "vest_shp.boundary.plot()"
   ]
  },
  {
   "cell_type": "code",
   "execution_count": 6,
   "id": "4e81692d",
   "metadata": {},
   "outputs": [
    {
     "data": {
      "text/plain": [
       "Index(['STATEFP', 'COUNTYFP', 'PRECINCT', 'G20PRERTRU', 'G20PREDBID',\n",
       "       'G20PRELJOR', 'G20PREOWRI', 'G20HALRARM', 'G20HALDRAK', 'G20HALLPET',\n",
       "       'G20HALOWRI', 'G20GOVRBUR', 'G20GOVDLEN', 'G20GOVLHEN', 'G20GOVOWRI',\n",
       "       'G20AUDRGAL', 'G20AUDDHAR', 'G20AUDOWRI', 'G20TRERBEA', 'G20TREDHAU',\n",
       "       'G20TREOWRI', 'G20INSRGOD', 'G20INSOWRI', 'G20PSCRKRO', 'G20PSCDBUC',\n",
       "       'G20PSCOWRI', 'geometry'],\n",
       "      dtype='object')"
      ]
     },
     "execution_count": 6,
     "metadata": {},
     "output_type": "execute_result"
    }
   ],
   "source": [
    "vest_shp.columns"
   ]
  },
  {
   "cell_type": "markdown",
   "id": "0129cf2e",
   "metadata": {},
   "source": [
    "## Loading, Combining Election Results\n",
    "The SOS directed to this link for election results for the 2018 general: \n",
    "https://results.sos.nd.gov/ResultsSW.aspx?text=All&type=SW&map=CTY&eid=303"
   ]
  },
  {
   "cell_type": "markdown",
   "id": "78ebd216",
   "metadata": {},
   "source": [
    "### Presidential Election Results"
   ]
  },
  {
   "cell_type": "code",
   "execution_count": 7,
   "id": "ccd79674",
   "metadata": {},
   "outputs": [
    {
     "data": {
      "text/html": [
       "<div>\n",
       "<style scoped>\n",
       "    .dataframe tbody tr th:only-of-type {\n",
       "        vertical-align: middle;\n",
       "    }\n",
       "\n",
       "    .dataframe tbody tr th {\n",
       "        vertical-align: top;\n",
       "    }\n",
       "\n",
       "    .dataframe thead th {\n",
       "        text-align: right;\n",
       "    }\n",
       "</style>\n",
       "<table border=\"1\" class=\"dataframe\">\n",
       "  <thead>\n",
       "    <tr style=\"text-align: right;\">\n",
       "      <th></th>\n",
       "      <th>County</th>\n",
       "      <th>Precinct</th>\n",
       "      <th>G20PRERTRU</th>\n",
       "      <th>G20PREDBID</th>\n",
       "      <th>G20PRELJOR</th>\n",
       "      <th>G20PREOWRI</th>\n",
       "    </tr>\n",
       "  </thead>\n",
       "  <tbody>\n",
       "    <tr>\n",
       "      <th>0</th>\n",
       "      <td>Adams</td>\n",
       "      <td>Adams County</td>\n",
       "      <td>981</td>\n",
       "      <td>258</td>\n",
       "      <td>30</td>\n",
       "      <td>0</td>\n",
       "    </tr>\n",
       "    <tr>\n",
       "      <th>1</th>\n",
       "      <td>Barnes</td>\n",
       "      <td>Precinct 2401-00</td>\n",
       "      <td>219</td>\n",
       "      <td>166</td>\n",
       "      <td>12</td>\n",
       "      <td>1</td>\n",
       "    </tr>\n",
       "    <tr>\n",
       "      <th>2</th>\n",
       "      <td>Barnes</td>\n",
       "      <td>Precinct 2402-00</td>\n",
       "      <td>437</td>\n",
       "      <td>263</td>\n",
       "      <td>31</td>\n",
       "      <td>3</td>\n",
       "    </tr>\n",
       "    <tr>\n",
       "      <th>3</th>\n",
       "      <td>Barnes</td>\n",
       "      <td>Precinct 2403-00</td>\n",
       "      <td>228</td>\n",
       "      <td>151</td>\n",
       "      <td>13</td>\n",
       "      <td>0</td>\n",
       "    </tr>\n",
       "    <tr>\n",
       "      <th>4</th>\n",
       "      <td>Barnes</td>\n",
       "      <td>Precinct 2404-00</td>\n",
       "      <td>394</td>\n",
       "      <td>247</td>\n",
       "      <td>20</td>\n",
       "      <td>2</td>\n",
       "    </tr>\n",
       "  </tbody>\n",
       "</table>\n",
       "</div>"
      ],
      "text/plain": [
       "   County          Precinct  G20PRERTRU  G20PREDBID  G20PRELJOR  G20PREOWRI\n",
       "0   Adams      Adams County         981         258          30           0\n",
       "1  Barnes  Precinct 2401-00         219         166          12           1\n",
       "2  Barnes  Precinct 2402-00         437         263          31           3\n",
       "3  Barnes  Precinct 2403-00         228         151          13           0\n",
       "4  Barnes  Precinct 2404-00         394         247          20           2"
      ]
     },
     "execution_count": 7,
     "metadata": {},
     "output_type": "execute_result"
    }
   ],
   "source": [
    "# Import presidential election results file\n",
    "pre_20 = pd.ExcelFile(\"./raw-from-source/Election_Results/Statewide Precinct Results - President.xlsx\")\n",
    "counties = pre_20.sheet_names\n",
    "\n",
    "# Create empty list to collect dataframes\n",
    "df_pre = []\n",
    "\n",
    "# Iterate over all the sheets within the file\n",
    "for county in counties:\n",
    "    # Skip over empty columns and empty rows\n",
    "    df = pd.read_excel(pre_20, sheet_name = county, usecols = [1,2,3,4,5], skiprows=[0,1,2,3,4])\n",
    "    # Create a county column at the beginning of the dataframe\n",
    "    df = pd.concat([pd.Series(county, index=df.index, name='County'), df], axis=1)\n",
    "    # Add the data to the list\n",
    "    df_pre.append(df)\n",
    "# Create the final dataframe    \n",
    "combined_df_pre = pd.concat(df_pre)\n",
    "\n",
    "# Rename the columns to match VEST\n",
    "combined_df_pre.columns = ['County','Precinct','G20PRERTRU','G20PREDBID','G20PRELJOR','G20PREOWRI']    \n",
    "\n",
    "# Remove the rows with column names and rows with total votes\n",
    "combined_df_pre = combined_df_pre[combined_df_pre[\"Precinct\"]!=\"Precinct\"]\n",
    "combined_df_pre = combined_df_pre[combined_df_pre[\"Precinct\"]!=\"TOTALS\"]\n",
    "\n",
    "# Fill n/a values with 0\n",
    "combined_df_pre = combined_df_pre.fillna(0)\n",
    "\n",
    "# Deal with the index\n",
    "combined_df_pre.reset_index(drop=True,inplace=True)\n",
    "\n",
    "combined_df_pre.head()"
   ]
  },
  {
   "cell_type": "markdown",
   "id": "1a42fe63",
   "metadata": {},
   "source": [
    "### Representative in Congress Election Results"
   ]
  },
  {
   "cell_type": "code",
   "execution_count": 8,
   "id": "38be2aa6",
   "metadata": {},
   "outputs": [
    {
     "data": {
      "text/html": [
       "<div>\n",
       "<style scoped>\n",
       "    .dataframe tbody tr th:only-of-type {\n",
       "        vertical-align: middle;\n",
       "    }\n",
       "\n",
       "    .dataframe tbody tr th {\n",
       "        vertical-align: top;\n",
       "    }\n",
       "\n",
       "    .dataframe thead th {\n",
       "        text-align: right;\n",
       "    }\n",
       "</style>\n",
       "<table border=\"1\" class=\"dataframe\">\n",
       "  <thead>\n",
       "    <tr style=\"text-align: right;\">\n",
       "      <th></th>\n",
       "      <th>County</th>\n",
       "      <th>Precinct</th>\n",
       "      <th>G20HALRARM</th>\n",
       "      <th>G20HALDRAK</th>\n",
       "      <th>G20HALLPET</th>\n",
       "      <th>G20HALOWRI</th>\n",
       "    </tr>\n",
       "  </thead>\n",
       "  <tbody>\n",
       "    <tr>\n",
       "      <th>0</th>\n",
       "      <td>Adams</td>\n",
       "      <td>Adams County</td>\n",
       "      <td>1010</td>\n",
       "      <td>213</td>\n",
       "      <td>32</td>\n",
       "      <td>1</td>\n",
       "    </tr>\n",
       "    <tr>\n",
       "      <th>1</th>\n",
       "      <td>Barnes</td>\n",
       "      <td>Precinct 2401-00</td>\n",
       "      <td>241</td>\n",
       "      <td>139</td>\n",
       "      <td>16</td>\n",
       "      <td>0</td>\n",
       "    </tr>\n",
       "    <tr>\n",
       "      <th>2</th>\n",
       "      <td>Barnes</td>\n",
       "      <td>Precinct 2402-00</td>\n",
       "      <td>449</td>\n",
       "      <td>246</td>\n",
       "      <td>28</td>\n",
       "      <td>0</td>\n",
       "    </tr>\n",
       "    <tr>\n",
       "      <th>3</th>\n",
       "      <td>Barnes</td>\n",
       "      <td>Precinct 2403-00</td>\n",
       "      <td>230</td>\n",
       "      <td>135</td>\n",
       "      <td>16</td>\n",
       "      <td>2</td>\n",
       "    </tr>\n",
       "    <tr>\n",
       "      <th>4</th>\n",
       "      <td>Barnes</td>\n",
       "      <td>Precinct 2404-00</td>\n",
       "      <td>425</td>\n",
       "      <td>207</td>\n",
       "      <td>24</td>\n",
       "      <td>0</td>\n",
       "    </tr>\n",
       "  </tbody>\n",
       "</table>\n",
       "</div>"
      ],
      "text/plain": [
       "   County          Precinct  G20HALRARM  G20HALDRAK  G20HALLPET  G20HALOWRI\n",
       "0   Adams      Adams County        1010         213          32           1\n",
       "1  Barnes  Precinct 2401-00         241         139          16           0\n",
       "2  Barnes  Precinct 2402-00         449         246          28           0\n",
       "3  Barnes  Precinct 2403-00         230         135          16           2\n",
       "4  Barnes  Precinct 2404-00         425         207          24           0"
      ]
     },
     "execution_count": 8,
     "metadata": {},
     "output_type": "execute_result"
    }
   ],
   "source": [
    "# Import house of representative election results file\n",
    "hal_20 = pd.ExcelFile(\"./raw-from-source/Election_Results/Statewide Precinct Results - Representative.xlsx\")\n",
    "counties = hal_20.sheet_names\n",
    "\n",
    "# Create empty list to collect dataframes\n",
    "df_hal = []\n",
    "\n",
    "# Iterate over all the sheets within the file\n",
    "for county in counties:\n",
    "    # Skip over empty columns and empty rows\n",
    "    df = pd.read_excel(hal_20, sheet_name = county, usecols = [1,2,3,4,5], skiprows=[0,1,2,3,4])\n",
    "    # Create a county column at the beginning of the dataframe\n",
    "    df = pd.concat([pd.Series(county, index=df.index, name='County'), df], axis=1)\n",
    "    # Add the data to the list\n",
    "    df_hal.append(df)\n",
    "# Create the final dataframe\n",
    "combined_df_hal = pd.concat(df_hal)\n",
    "\n",
    "# Rename the columns to match VEST\n",
    "combined_df_hal.columns = ['County','Precinct', 'G20HALRARM','G20HALDRAK','G20HALLPET','G20HALOWRI']    \n",
    "\n",
    "# Remove the rows with column names and rows with total votes\n",
    "combined_df_hal = combined_df_hal[combined_df_hal[\"Precinct\"]!=\"Precinct\"]\n",
    "combined_df_hal = combined_df_hal[combined_df_hal[\"Precinct\"]!=\"TOTALS\"]\n",
    "\n",
    "# Fill n/a values with 0\n",
    "combined_df_hal = combined_df_hal.fillna(0)\n",
    "\n",
    "# Deal with the index\n",
    "combined_df_hal.reset_index(drop=True,inplace=True)\n",
    "\n",
    "combined_df_hal.head()"
   ]
  },
  {
   "cell_type": "markdown",
   "id": "751a8480",
   "metadata": {},
   "source": [
    "### Governor Election Results"
   ]
  },
  {
   "cell_type": "code",
   "execution_count": 9,
   "id": "70dbaa6b",
   "metadata": {},
   "outputs": [
    {
     "data": {
      "text/html": [
       "<div>\n",
       "<style scoped>\n",
       "    .dataframe tbody tr th:only-of-type {\n",
       "        vertical-align: middle;\n",
       "    }\n",
       "\n",
       "    .dataframe tbody tr th {\n",
       "        vertical-align: top;\n",
       "    }\n",
       "\n",
       "    .dataframe thead th {\n",
       "        text-align: right;\n",
       "    }\n",
       "</style>\n",
       "<table border=\"1\" class=\"dataframe\">\n",
       "  <thead>\n",
       "    <tr style=\"text-align: right;\">\n",
       "      <th></th>\n",
       "      <th>County</th>\n",
       "      <th>Precinct</th>\n",
       "      <th>G20GOVRBUR</th>\n",
       "      <th>G20GOVDLEN</th>\n",
       "      <th>G20GOVLHEN</th>\n",
       "      <th>G20GOVOWRI</th>\n",
       "    </tr>\n",
       "  </thead>\n",
       "  <tbody>\n",
       "    <tr>\n",
       "      <th>0</th>\n",
       "      <td>Adams</td>\n",
       "      <td>Adams County</td>\n",
       "      <td>1000</td>\n",
       "      <td>163</td>\n",
       "      <td>40</td>\n",
       "      <td>57</td>\n",
       "    </tr>\n",
       "    <tr>\n",
       "      <th>1</th>\n",
       "      <td>Barnes</td>\n",
       "      <td>Precinct 2401-00</td>\n",
       "      <td>261</td>\n",
       "      <td>117</td>\n",
       "      <td>11</td>\n",
       "      <td>11</td>\n",
       "    </tr>\n",
       "    <tr>\n",
       "      <th>2</th>\n",
       "      <td>Barnes</td>\n",
       "      <td>Precinct 2402-00</td>\n",
       "      <td>484</td>\n",
       "      <td>205</td>\n",
       "      <td>23</td>\n",
       "      <td>17</td>\n",
       "    </tr>\n",
       "    <tr>\n",
       "      <th>3</th>\n",
       "      <td>Barnes</td>\n",
       "      <td>Precinct 2403-00</td>\n",
       "      <td>247</td>\n",
       "      <td>119</td>\n",
       "      <td>12</td>\n",
       "      <td>8</td>\n",
       "    </tr>\n",
       "    <tr>\n",
       "      <th>4</th>\n",
       "      <td>Barnes</td>\n",
       "      <td>Precinct 2404-00</td>\n",
       "      <td>432</td>\n",
       "      <td>182</td>\n",
       "      <td>28</td>\n",
       "      <td>21</td>\n",
       "    </tr>\n",
       "  </tbody>\n",
       "</table>\n",
       "</div>"
      ],
      "text/plain": [
       "   County          Precinct  G20GOVRBUR  G20GOVDLEN  G20GOVLHEN  G20GOVOWRI\n",
       "0   Adams      Adams County        1000         163          40          57\n",
       "1  Barnes  Precinct 2401-00         261         117          11          11\n",
       "2  Barnes  Precinct 2402-00         484         205          23          17\n",
       "3  Barnes  Precinct 2403-00         247         119          12           8\n",
       "4  Barnes  Precinct 2404-00         432         182          28          21"
      ]
     },
     "execution_count": 9,
     "metadata": {},
     "output_type": "execute_result"
    }
   ],
   "source": [
    "# Import governor election results file\n",
    "gov_20 = pd.ExcelFile(\"./raw-from-source/Election_Results/Statewide Precinct Results - Governor.xlsx\")\n",
    "counties = gov_20.sheet_names\n",
    "\n",
    "# Create empty list to collect dataframes\n",
    "df_gov = []\n",
    "\n",
    "# Iterate over all the sheets within the file\n",
    "for county in counties:\n",
    "    # Skip over empty columns and empty rows\n",
    "    df = pd.read_excel(gov_20, sheet_name = county, usecols = [1,2,3,4,5], skiprows=[0,1,2,3,4])\n",
    "    # Create a county column at the beginning of the dataframe\n",
    "    df = pd.concat([pd.Series(county, index=df.index, name='County'), df], axis=1)\n",
    "    # Add the data to the list\n",
    "    df_gov.append(df)\n",
    "# Create the final dataframe\n",
    "combined_df_gov = pd.concat(df_gov)\n",
    "\n",
    "# Rename the columns to match VEST\n",
    "combined_df_gov.columns = ['County','Precinct', 'G20GOVRBUR','G20GOVDLEN','G20GOVLHEN','G20GOVOWRI']    \n",
    "\n",
    "# Remove the rows with column names and rows with total votes\n",
    "combined_df_gov = combined_df_gov[combined_df_gov[\"Precinct\"]!=\"Precinct\"]\n",
    "combined_df_gov = combined_df_gov[combined_df_gov[\"Precinct\"]!=\"TOTALS\"]\n",
    "\n",
    "# Fill n/a values with 0\n",
    "combined_df_gov = combined_df_gov.fillna(0)\n",
    "\n",
    "# Deal with the index\n",
    "combined_df_gov.reset_index(drop=True,inplace=True)\n",
    "\n",
    "combined_df_gov.head()"
   ]
  },
  {
   "cell_type": "markdown",
   "id": "0447d30f",
   "metadata": {},
   "source": [
    "### State Auditor Election Results"
   ]
  },
  {
   "cell_type": "code",
   "execution_count": 10,
   "id": "40c9d26f",
   "metadata": {},
   "outputs": [
    {
     "data": {
      "text/html": [
       "<div>\n",
       "<style scoped>\n",
       "    .dataframe tbody tr th:only-of-type {\n",
       "        vertical-align: middle;\n",
       "    }\n",
       "\n",
       "    .dataframe tbody tr th {\n",
       "        vertical-align: top;\n",
       "    }\n",
       "\n",
       "    .dataframe thead th {\n",
       "        text-align: right;\n",
       "    }\n",
       "</style>\n",
       "<table border=\"1\" class=\"dataframe\">\n",
       "  <thead>\n",
       "    <tr style=\"text-align: right;\">\n",
       "      <th></th>\n",
       "      <th>County</th>\n",
       "      <th>Precinct</th>\n",
       "      <th>G20AUDRGAL</th>\n",
       "      <th>G20AUDDHAR</th>\n",
       "      <th>G20AUDOWRI</th>\n",
       "    </tr>\n",
       "  </thead>\n",
       "  <tbody>\n",
       "    <tr>\n",
       "      <th>0</th>\n",
       "      <td>Adams</td>\n",
       "      <td>Adams County</td>\n",
       "      <td>977</td>\n",
       "      <td>250</td>\n",
       "      <td>1</td>\n",
       "    </tr>\n",
       "    <tr>\n",
       "      <th>1</th>\n",
       "      <td>Barnes</td>\n",
       "      <td>Precinct 2401-00</td>\n",
       "      <td>229</td>\n",
       "      <td>161</td>\n",
       "      <td>0</td>\n",
       "    </tr>\n",
       "    <tr>\n",
       "      <th>2</th>\n",
       "      <td>Barnes</td>\n",
       "      <td>Precinct 2402-00</td>\n",
       "      <td>416</td>\n",
       "      <td>289</td>\n",
       "      <td>1</td>\n",
       "    </tr>\n",
       "    <tr>\n",
       "      <th>3</th>\n",
       "      <td>Barnes</td>\n",
       "      <td>Precinct 2403-00</td>\n",
       "      <td>213</td>\n",
       "      <td>163</td>\n",
       "      <td>1</td>\n",
       "    </tr>\n",
       "    <tr>\n",
       "      <th>4</th>\n",
       "      <td>Barnes</td>\n",
       "      <td>Precinct 2404-00</td>\n",
       "      <td>383</td>\n",
       "      <td>252</td>\n",
       "      <td>2</td>\n",
       "    </tr>\n",
       "  </tbody>\n",
       "</table>\n",
       "</div>"
      ],
      "text/plain": [
       "   County          Precinct  G20AUDRGAL  G20AUDDHAR  G20AUDOWRI\n",
       "0   Adams      Adams County         977         250           1\n",
       "1  Barnes  Precinct 2401-00         229         161           0\n",
       "2  Barnes  Precinct 2402-00         416         289           1\n",
       "3  Barnes  Precinct 2403-00         213         163           1\n",
       "4  Barnes  Precinct 2404-00         383         252           2"
      ]
     },
     "execution_count": 10,
     "metadata": {},
     "output_type": "execute_result"
    }
   ],
   "source": [
    "# Import auditor election results file\n",
    "aud_20 = pd.ExcelFile(\"./raw-from-source/Election_Results/Statewide Precinct Results - Auditor.xlsx\")\n",
    "counties = aud_20.sheet_names\n",
    "\n",
    "# Create empty list to collect dataframes\n",
    "df_aud = []\n",
    "\n",
    "# Iterate over all the sheets within the file\n",
    "for county in counties:\n",
    "    # Skip over empty columns and empty rows\n",
    "    df = pd.read_excel(aud_20, sheet_name = county, usecols = [1,2,3,4], skiprows=[0,1,2,3,4])\n",
    "    # Create a county column at the beginning of the dataframe\n",
    "    df = pd.concat([pd.Series(county, index=df.index, name='County'), df], axis=1)\n",
    "    # Add the data to the list\n",
    "    df_aud.append(df)\n",
    "# Create the final dataframe\n",
    "combined_df_aud = pd.concat(df_aud)\n",
    "\n",
    "# Rename the columns to match VEST\n",
    "combined_df_aud.columns = ['County','Precinct', 'G20AUDRGAL','G20AUDDHAR','G20AUDOWRI']    \n",
    "\n",
    "# Remove the rows with column names and rows with total votes\n",
    "combined_df_aud = combined_df_aud[combined_df_aud[\"Precinct\"]!=\"Precinct\"]\n",
    "combined_df_aud = combined_df_aud[combined_df_aud[\"Precinct\"]!=\"TOTALS\"]\n",
    "\n",
    "# Fill n/a values with 0\n",
    "combined_df_aud = combined_df_aud.fillna(0)\n",
    "\n",
    "# Deal with the index\n",
    "combined_df_aud.reset_index(drop=True,inplace=True)\n",
    "\n",
    "combined_df_aud.head()"
   ]
  },
  {
   "cell_type": "markdown",
   "id": "10c09e60",
   "metadata": {},
   "source": [
    "### State Treasurer Election Results "
   ]
  },
  {
   "cell_type": "code",
   "execution_count": 11,
   "id": "a3e8de93",
   "metadata": {},
   "outputs": [
    {
     "data": {
      "text/html": [
       "<div>\n",
       "<style scoped>\n",
       "    .dataframe tbody tr th:only-of-type {\n",
       "        vertical-align: middle;\n",
       "    }\n",
       "\n",
       "    .dataframe tbody tr th {\n",
       "        vertical-align: top;\n",
       "    }\n",
       "\n",
       "    .dataframe thead th {\n",
       "        text-align: right;\n",
       "    }\n",
       "</style>\n",
       "<table border=\"1\" class=\"dataframe\">\n",
       "  <thead>\n",
       "    <tr style=\"text-align: right;\">\n",
       "      <th></th>\n",
       "      <th>County</th>\n",
       "      <th>Precinct</th>\n",
       "      <th>G20TRERBEA</th>\n",
       "      <th>G20TREDHAU</th>\n",
       "      <th>G20TREOWRI</th>\n",
       "    </tr>\n",
       "  </thead>\n",
       "  <tbody>\n",
       "    <tr>\n",
       "      <th>0</th>\n",
       "      <td>Adams</td>\n",
       "      <td>Adams County</td>\n",
       "      <td>926</td>\n",
       "      <td>308</td>\n",
       "      <td>4</td>\n",
       "    </tr>\n",
       "    <tr>\n",
       "      <th>1</th>\n",
       "      <td>Barnes</td>\n",
       "      <td>Precinct 2401-00</td>\n",
       "      <td>226</td>\n",
       "      <td>160</td>\n",
       "      <td>4</td>\n",
       "    </tr>\n",
       "    <tr>\n",
       "      <th>2</th>\n",
       "      <td>Barnes</td>\n",
       "      <td>Precinct 2402-00</td>\n",
       "      <td>399</td>\n",
       "      <td>302</td>\n",
       "      <td>3</td>\n",
       "    </tr>\n",
       "    <tr>\n",
       "      <th>3</th>\n",
       "      <td>Barnes</td>\n",
       "      <td>Precinct 2403-00</td>\n",
       "      <td>215</td>\n",
       "      <td>161</td>\n",
       "      <td>5</td>\n",
       "    </tr>\n",
       "    <tr>\n",
       "      <th>4</th>\n",
       "      <td>Barnes</td>\n",
       "      <td>Precinct 2404-00</td>\n",
       "      <td>378</td>\n",
       "      <td>257</td>\n",
       "      <td>8</td>\n",
       "    </tr>\n",
       "  </tbody>\n",
       "</table>\n",
       "</div>"
      ],
      "text/plain": [
       "   County          Precinct  G20TRERBEA  G20TREDHAU  G20TREOWRI\n",
       "0   Adams      Adams County         926         308           4\n",
       "1  Barnes  Precinct 2401-00         226         160           4\n",
       "2  Barnes  Precinct 2402-00         399         302           3\n",
       "3  Barnes  Precinct 2403-00         215         161           5\n",
       "4  Barnes  Precinct 2404-00         378         257           8"
      ]
     },
     "execution_count": 11,
     "metadata": {},
     "output_type": "execute_result"
    }
   ],
   "source": [
    "# Import treasurer election results file\n",
    "tre_20 = pd.ExcelFile(\"./raw-from-source/Election_Results/Statewide Precinct Results - Treasurer.xlsx\")\n",
    "counties = tre_20.sheet_names\n",
    "\n",
    "# Create empty list to collect dataframes\n",
    "df_tre = []\n",
    "\n",
    "# Iterate over all the sheets within the file\n",
    "for county in counties:\n",
    "    # Skip over empty columns and empty rows\n",
    "    df = pd.read_excel(tre_20, sheet_name = county, usecols = [1,2,3,4], skiprows=[0,1,2,3,4])\n",
    "    # Create a county column at the beginning of the dataframe\n",
    "    df = pd.concat([pd.Series(county, index=df.index, name='County'), df], axis=1)\n",
    "    # Add the data to the list\n",
    "    df_tre.append(df)\n",
    "# Create the final dataframe\n",
    "combined_df_tre = pd.concat(df_tre)\n",
    "\n",
    "# Rename the columns to match VEST\n",
    "combined_df_tre.columns = ['County','Precinct','G20TRERBEA','G20TREDHAU','G20TREOWRI']    \n",
    "\n",
    "# Remove the rows with column names and rows with total votes\n",
    "combined_df_tre = combined_df_tre[combined_df_tre[\"Precinct\"]!=\"Precinct\"]\n",
    "combined_df_tre = combined_df_tre[combined_df_tre[\"Precinct\"]!=\"TOTALS\"]\n",
    "\n",
    "# Fill n/a values with 0\n",
    "combined_df_tre = combined_df_tre.fillna(0)\n",
    "\n",
    "# Deal with the index\n",
    "combined_df_tre.reset_index(drop=True,inplace=True)\n",
    "\n",
    "combined_df_tre.head()"
   ]
  },
  {
   "cell_type": "markdown",
   "id": "90dd20e7",
   "metadata": {},
   "source": [
    "### Insurance Commissioner Election Results"
   ]
  },
  {
   "cell_type": "code",
   "execution_count": 12,
   "id": "8f7739b1",
   "metadata": {},
   "outputs": [
    {
     "data": {
      "text/html": [
       "<div>\n",
       "<style scoped>\n",
       "    .dataframe tbody tr th:only-of-type {\n",
       "        vertical-align: middle;\n",
       "    }\n",
       "\n",
       "    .dataframe tbody tr th {\n",
       "        vertical-align: top;\n",
       "    }\n",
       "\n",
       "    .dataframe thead th {\n",
       "        text-align: right;\n",
       "    }\n",
       "</style>\n",
       "<table border=\"1\" class=\"dataframe\">\n",
       "  <thead>\n",
       "    <tr style=\"text-align: right;\">\n",
       "      <th></th>\n",
       "      <th>County</th>\n",
       "      <th>Precinct</th>\n",
       "      <th>G20INSRGOD</th>\n",
       "      <th>G20INSOWRI</th>\n",
       "    </tr>\n",
       "  </thead>\n",
       "  <tbody>\n",
       "    <tr>\n",
       "      <th>0</th>\n",
       "      <td>Adams</td>\n",
       "      <td>Adams County</td>\n",
       "      <td>1107</td>\n",
       "      <td>15</td>\n",
       "    </tr>\n",
       "    <tr>\n",
       "      <th>1</th>\n",
       "      <td>Barnes</td>\n",
       "      <td>Precinct 2401-00</td>\n",
       "      <td>322</td>\n",
       "      <td>6</td>\n",
       "    </tr>\n",
       "    <tr>\n",
       "      <th>2</th>\n",
       "      <td>Barnes</td>\n",
       "      <td>Precinct 2402-00</td>\n",
       "      <td>585</td>\n",
       "      <td>19</td>\n",
       "    </tr>\n",
       "    <tr>\n",
       "      <th>3</th>\n",
       "      <td>Barnes</td>\n",
       "      <td>Precinct 2403-00</td>\n",
       "      <td>321</td>\n",
       "      <td>5</td>\n",
       "    </tr>\n",
       "    <tr>\n",
       "      <th>4</th>\n",
       "      <td>Barnes</td>\n",
       "      <td>Precinct 2404-00</td>\n",
       "      <td>549</td>\n",
       "      <td>15</td>\n",
       "    </tr>\n",
       "  </tbody>\n",
       "</table>\n",
       "</div>"
      ],
      "text/plain": [
       "   County          Precinct  G20INSRGOD  G20INSOWRI\n",
       "0   Adams      Adams County        1107          15\n",
       "1  Barnes  Precinct 2401-00         322           6\n",
       "2  Barnes  Precinct 2402-00         585          19\n",
       "3  Barnes  Precinct 2403-00         321           5\n",
       "4  Barnes  Precinct 2404-00         549          15"
      ]
     },
     "execution_count": 12,
     "metadata": {},
     "output_type": "execute_result"
    }
   ],
   "source": [
    "# Import insurance commissioner election results file\n",
    "ins_20 = pd.ExcelFile(\"./raw-from-source/Election_Results/Statewide Precinct Results - Insurance.xlsx\")\n",
    "counties = ins_20.sheet_names\n",
    "\n",
    "# Create empty list to collect dataframes\n",
    "df_ins = []\n",
    "\n",
    "# Iterate over all the sheets within the file\n",
    "for county in counties:\n",
    "    # Skip over empty columns and empty rows\n",
    "    df = pd.read_excel(ins_20, sheet_name = county, usecols = [1,2,3], skiprows=[0,1,2,3,4])\n",
    "    # Create a county column at the beginning of the dataframe\n",
    "    df = pd.concat([pd.Series(county, index=df.index, name='County'), df], axis=1)\n",
    "    # Add the data to the list\n",
    "    df_ins.append(df)\n",
    "# Create the final dataframe\n",
    "combined_df_ins = pd.concat(df_ins)\n",
    "\n",
    "# Rename the columns to match VEST\n",
    "combined_df_ins.columns = ['County','Precinct','G20INSRGOD','G20INSOWRI']    \n",
    "\n",
    "# Remove the rows with column names and rows with total votes\n",
    "combined_df_ins = combined_df_ins[combined_df_ins[\"Precinct\"]!=\"Precinct\"]\n",
    "combined_df_ins = combined_df_ins[combined_df_ins[\"Precinct\"]!=\"TOTALS\"]\n",
    "\n",
    "# Fill n/a values with 0\n",
    "combined_df_ins = combined_df_ins.fillna(0)\n",
    "\n",
    "# Deal with the index\n",
    "combined_df_ins.reset_index(drop=True,inplace=True)\n",
    "\n",
    "combined_df_ins.head()"
   ]
  },
  {
   "cell_type": "markdown",
   "id": "c5486865",
   "metadata": {},
   "source": [
    "### Public Service Commissioner Election Results"
   ]
  },
  {
   "cell_type": "code",
   "execution_count": 13,
   "id": "bd5c9d07",
   "metadata": {},
   "outputs": [
    {
     "data": {
      "text/html": [
       "<div>\n",
       "<style scoped>\n",
       "    .dataframe tbody tr th:only-of-type {\n",
       "        vertical-align: middle;\n",
       "    }\n",
       "\n",
       "    .dataframe tbody tr th {\n",
       "        vertical-align: top;\n",
       "    }\n",
       "\n",
       "    .dataframe thead th {\n",
       "        text-align: right;\n",
       "    }\n",
       "</style>\n",
       "<table border=\"1\" class=\"dataframe\">\n",
       "  <thead>\n",
       "    <tr style=\"text-align: right;\">\n",
       "      <th></th>\n",
       "      <th>County</th>\n",
       "      <th>Precinct</th>\n",
       "      <th>G20PSCRKRO</th>\n",
       "      <th>G20PSCDBUC</th>\n",
       "      <th>G20PSCOWRI</th>\n",
       "    </tr>\n",
       "  </thead>\n",
       "  <tbody>\n",
       "    <tr>\n",
       "      <th>0</th>\n",
       "      <td>Adams</td>\n",
       "      <td>Adams County</td>\n",
       "      <td>971</td>\n",
       "      <td>259</td>\n",
       "      <td>1</td>\n",
       "    </tr>\n",
       "    <tr>\n",
       "      <th>1</th>\n",
       "      <td>Barnes</td>\n",
       "      <td>Precinct 2401-00</td>\n",
       "      <td>220</td>\n",
       "      <td>153</td>\n",
       "      <td>0</td>\n",
       "    </tr>\n",
       "    <tr>\n",
       "      <th>2</th>\n",
       "      <td>Barnes</td>\n",
       "      <td>Precinct 2402-00</td>\n",
       "      <td>412</td>\n",
       "      <td>275</td>\n",
       "      <td>2</td>\n",
       "    </tr>\n",
       "    <tr>\n",
       "      <th>3</th>\n",
       "      <td>Barnes</td>\n",
       "      <td>Precinct 2403-00</td>\n",
       "      <td>221</td>\n",
       "      <td>150</td>\n",
       "      <td>1</td>\n",
       "    </tr>\n",
       "    <tr>\n",
       "      <th>4</th>\n",
       "      <td>Barnes</td>\n",
       "      <td>Precinct 2404-00</td>\n",
       "      <td>390</td>\n",
       "      <td>234</td>\n",
       "      <td>1</td>\n",
       "    </tr>\n",
       "  </tbody>\n",
       "</table>\n",
       "</div>"
      ],
      "text/plain": [
       "   County          Precinct  G20PSCRKRO  G20PSCDBUC  G20PSCOWRI\n",
       "0   Adams      Adams County         971         259           1\n",
       "1  Barnes  Precinct 2401-00         220         153           0\n",
       "2  Barnes  Precinct 2402-00         412         275           2\n",
       "3  Barnes  Precinct 2403-00         221         150           1\n",
       "4  Barnes  Precinct 2404-00         390         234           1"
      ]
     },
     "execution_count": 13,
     "metadata": {},
     "output_type": "execute_result"
    }
   ],
   "source": [
    "# Import public service commissioner election results file\n",
    "psc_20 = pd.ExcelFile(\"./raw-from-source/Election_Results/Statewide Precinct Results - PSC.xlsx\")\n",
    "counties = psc_20.sheet_names\n",
    "\n",
    "# Create empty list to collect dataframes\n",
    "df_psc = []\n",
    "\n",
    "# Iterate over all the sheets within the file\n",
    "for county in counties:\n",
    "    # Skip over empty columns and empty rows\n",
    "    df = pd.read_excel(psc_20, sheet_name = county, usecols = [1,2,3,4], skiprows=[0,1,2,3,4])\n",
    "    # Create a county column at the beginning of the dataframe\n",
    "    df = pd.concat([pd.Series(county, index=df.index, name='County'), df], axis=1)\n",
    "    # Add the data to the list\n",
    "    df_psc.append(df)\n",
    "# Create the final dataframe\n",
    "combined_df_psc = pd.concat(df_psc)\n",
    "\n",
    "# Rename the columns to match VEST\n",
    "combined_df_psc.columns = ['County','Precinct','G20PSCRKRO','G20PSCDBUC','G20PSCOWRI']    \n",
    "\n",
    "# Remove the rows with column names and rows with total votes\n",
    "combined_df_psc = combined_df_psc[combined_df_psc[\"Precinct\"]!=\"Precinct\"]\n",
    "combined_df_psc = combined_df_psc[combined_df_psc[\"Precinct\"]!=\"TOTALS\"]\n",
    "\n",
    "# Fill n/a values with 0\n",
    "combined_df_psc = combined_df_psc.fillna(0)\n",
    "\n",
    "# Deal with the index\n",
    "combined_df_psc.reset_index(drop=True,inplace=True)\n",
    "\n",
    "combined_df_psc.head()"
   ]
  },
  {
   "cell_type": "markdown",
   "id": "c5ccad06",
   "metadata": {},
   "source": [
    "### Combine Results"
   ]
  },
  {
   "cell_type": "code",
   "execution_count": 14,
   "id": "781dcaa1",
   "metadata": {},
   "outputs": [],
   "source": [
    "# Concatenate all dataframes\n",
    "nd_20 = pd.concat([combined_df_pre,combined_df_hal,combined_df_gov,combined_df_aud,combined_df_tre,combined_df_ins,combined_df_psc],axis=1)\n",
    "\n",
    "# Drop repeated columns - County and Precinct\n",
    "nd_20 = nd_20.loc[:,~nd_20.columns.duplicated()]"
   ]
  },
  {
   "cell_type": "code",
   "execution_count": 15,
   "id": "46f1232d",
   "metadata": {},
   "outputs": [
    {
     "data": {
      "text/plain": [
       "Index(['County', 'Precinct', 'G20PRERTRU', 'G20PREDBID', 'G20PRELJOR',\n",
       "       'G20PREOWRI', 'G20HALRARM', 'G20HALDRAK', 'G20HALLPET', 'G20HALOWRI',\n",
       "       'G20GOVRBUR', 'G20GOVDLEN', 'G20GOVLHEN', 'G20GOVOWRI', 'G20AUDRGAL',\n",
       "       'G20AUDDHAR', 'G20AUDOWRI', 'G20TRERBEA', 'G20TREDHAU', 'G20TREOWRI',\n",
       "       'G20INSRGOD', 'G20INSOWRI', 'G20PSCRKRO', 'G20PSCDBUC', 'G20PSCOWRI'],\n",
       "      dtype='object')"
      ]
     },
     "execution_count": 15,
     "metadata": {},
     "output_type": "execute_result"
    }
   ],
   "source": [
    "nd_20.columns"
   ]
  },
  {
   "cell_type": "markdown",
   "id": "befd82f8",
   "metadata": {},
   "source": [
    "## Validating Election Results"
   ]
  },
  {
   "cell_type": "markdown",
   "id": "56254bbc",
   "metadata": {},
   "source": [
    "### Check Statewide Candidate Totals"
   ]
  },
  {
   "cell_type": "code",
   "execution_count": 16,
   "id": "9fe476d2",
   "metadata": {},
   "outputs": [
    {
     "name": "stdout",
     "output_type": "stream",
     "text": [
      "Printing differences below\n",
      "G20PRERTRU is equal \tVEST: 235751 \tRDH: 235751\n",
      "G20PREDBID is equal \tVEST: 115042 \tRDH: 115042\n",
      "G20PRELJOR is equal \tVEST: 9371 \tRDH: 9371\n",
      "G20PREOWRI is equal \tVEST: 1860 \tRDH: 1860\n",
      "G20HALRARM is equal \tVEST: 245394 \tRDH: 245394\n",
      "G20HALDRAK is equal \tVEST: 98089 \tRDH: 98089\n",
      "G20HALLPET is equal \tVEST: 12013 \tRDH: 12013\n",
      "G20HALOWRI is equal \tVEST: 303 \tRDH: 303\n",
      "G20GOVRBUR is equal \tVEST: 235629 \tRDH: 235629\n",
      "G20GOVDLEN is equal \tVEST: 90925 \tRDH: 90925\n",
      "G20GOVLHEN is equal \tVEST: 13833 \tRDH: 13833\n",
      "G20GOVOWRI is equal \tVEST: 17472 \tRDH: 17472\n",
      "G20AUDRGAL is equal \tVEST: 234447 \tRDH: 234447\n",
      "G20AUDDHAR is equal \tVEST: 111397 \tRDH: 111397\n",
      "G20AUDOWRI is equal \tVEST: 526 \tRDH: 526\n",
      "G20TRERBEA is equal \tVEST: 227746 \tRDH: 227746\n",
      "G20TREDHAU is equal \tVEST: 117939 \tRDH: 117939\n",
      "G20TREOWRI is equal \tVEST: 1480 \tRDH: 1480\n",
      "G20INSRGOD is equal \tVEST: 295352 \tRDH: 295352\n",
      "G20INSOWRI is equal \tVEST: 6796 \tRDH: 6796\n",
      "G20PSCRKRO is equal \tVEST: 232029 \tRDH: 232029\n",
      "G20PSCDBUC is equal \tVEST: 110669 \tRDH: 110669\n",
      "G20PSCOWRI is equal \tVEST: 498 \tRDH: 498\n",
      "\n",
      "All other races are equal\n"
     ]
    }
   ],
   "source": [
    "data_columns = ['G20PRERTRU', 'G20PREDBID', 'G20PRELJOR',\n",
    "       'G20PREOWRI', 'G20HALRARM', 'G20HALDRAK', 'G20HALLPET', 'G20HALOWRI',\n",
    "       'G20GOVRBUR', 'G20GOVDLEN', 'G20GOVLHEN', 'G20GOVOWRI', 'G20AUDRGAL',\n",
    "       'G20AUDDHAR', 'G20AUDOWRI', 'G20TRERBEA', 'G20TREDHAU', 'G20TREOWRI',\n",
    "       'G20INSRGOD', 'G20INSOWRI', 'G20PSCRKRO', 'G20PSCDBUC', 'G20PSCOWRI']\n",
    "\n",
    "print(\"Printing differences below\")\n",
    "for race in data_columns:\n",
    "    if (sum(vest_shp[race])- nd_20[race].sum() != 0):\n",
    "        print(race+\" has a difference of \"+str(sum(vest_shp[race])-nd_18[race].sum())+\" votes\")\n",
    "        print(\"\\tVEST: \"+str(sum(vest_shp[race]))+\" votes\")\n",
    "        print(\"\\tSOURCES: \"+str(nd_20[race].sum())+\" votes\")\n",
    "    else:\n",
    "        print(race + \" is equal\", \"\\tVEST: \" + str(sum(vest_shp[race])), \"\\tRDH: \" + str(nd_20[race].sum()))\n",
    "print(\"\")\n",
    "print(\"All other races are equal\")"
   ]
  },
  {
   "cell_type": "markdown",
   "id": "e8720fe1",
   "metadata": {},
   "source": [
    "### Check County Totals"
   ]
  },
  {
   "cell_type": "markdown",
   "id": "ae24b4aa",
   "metadata": {},
   "source": [
    "#### County FIPs Data"
   ]
  },
  {
   "cell_type": "code",
   "execution_count": 17,
   "id": "dcade15a",
   "metadata": {},
   "outputs": [
    {
     "name": "stdout",
     "output_type": "stream",
     "text": [
      "53\n"
     ]
    }
   ],
   "source": [
    "# Load in the nationwide FIPS file\n",
    "fips_file = pd.read_csv(\"./raw-from-source/FIPS/US_FIPS_Codes.csv\")\n",
    "fips_file = fips_file[fips_file[\"State\"]==\"North Dakota\"]\n",
    "fips_file[\"FIPS County\"]=fips_file[\"FIPS County\"].astype(str)\n",
    "\n",
    "# Make the FIPS three digits\n",
    "fips_file[\"FIPS County\"]=fips_file[\"FIPS County\"].str.zfill(3)\n",
    "\n",
    "# Create the dictionary\n",
    "fips_dict = dict(zip(fips_file[\"County Name\"],fips_file[\"FIPS County\"]))\n",
    "\n",
    "# Modify county names in dataframe to match the FIPs file\n",
    "county_name_changes_dict = {\"LaMoure\":\"Lamoure\",\"McKenzie\":\"Mckenzie\",\"McLean\":\"Mclean\"}\n",
    "nd_20[\"County\"] = nd_20[\"County\"].map(county_name_changes_dict).fillna(nd_20[\"County\"])\n",
    "\n",
    "# Use the dictionary to go from a county name to a county FIPS\n",
    "nd_20[\"COUNTYFP\"] = nd_20[\"County\"].map(fips_dict).fillna(nd_20[\"County\"])\n",
    "\n",
    "# Check the number of counties - looking for 53\n",
    "print(len(nd_20[\"County\"].unique()))"
   ]
  },
  {
   "cell_type": "markdown",
   "id": "92f618f7",
   "metadata": {},
   "source": [
    "#### Check County Totals"
   ]
  },
  {
   "cell_type": "code",
   "execution_count": 18,
   "id": "46468d82",
   "metadata": {},
   "outputs": [],
   "source": [
    "def county_totals_check(partner_df,source_df,column_list,county_col,full_print=False):\n",
    "    print(\"***Countywide Totals Check***\")\n",
    "    print(\"\")\n",
    "    diff_counties=[]\n",
    "    for race in column_list:\n",
    "        diff = partner_df.groupby([county_col]).sum()[race]-source_df.groupby([county_col]).sum()[race]\n",
    "        for val in diff[diff != 0].index.values.tolist():\n",
    "            if val not in diff_counties:\n",
    "                diff_counties.append(val)\n",
    "        if len(diff[diff != 0]!=0):   \n",
    "            print(race + \" contains differences in these counties:\")\n",
    "            for val in diff[diff != 0].index.values.tolist():\n",
    "                county_differences = diff[diff != 0]\n",
    "                print(\"\\t\"+val+\" has a difference of \"+str(county_differences[val])+\" votes\")\n",
    "                print(\"\\t\\tVEST: \"+str(partner_df.groupby([county_col]).sum().loc[val,race])+\" votes\")\n",
    "                print(\"\\t\\tSOURCES: \"+str(source_df.groupby([county_col]).sum().loc[val,race])+\" votes\")\n",
    "            if (full_print):\n",
    "                for val in diff[diff == 0].index.values.tolist():\n",
    "                    county_similarities = diff[diff == 0]\n",
    "                    print(\"\\t\"+val + \": \"+ str(partner_df.groupby([county_col]).sum().loc[val,race])+\" votes\")\n",
    "        else:\n",
    "            print(race + \" is equal across all counties\")\n",
    "            if (full_print):\n",
    "                for val in diff[diff == 0].index.values.tolist():\n",
    "                    county_similarities = diff[diff == 0]\n",
    "                    print(\"\\t\"+val + \": \"+ str(partner_df.groupby([county_col]).sum().loc[val,race])+\" votes\")"
   ]
  },
  {
   "cell_type": "code",
   "execution_count": 19,
   "id": "e7ab12c5",
   "metadata": {},
   "outputs": [
    {
     "name": "stdout",
     "output_type": "stream",
     "text": [
      "***Countywide Totals Check***\n",
      "\n",
      "G20PRERTRU is equal across all counties\n",
      "G20PREDBID is equal across all counties\n",
      "G20PRELJOR is equal across all counties\n",
      "G20PREOWRI is equal across all counties\n",
      "G20HALRARM is equal across all counties\n",
      "G20HALDRAK is equal across all counties\n",
      "G20HALLPET is equal across all counties\n",
      "G20HALOWRI is equal across all counties\n",
      "G20GOVRBUR is equal across all counties\n",
      "G20GOVDLEN is equal across all counties\n",
      "G20GOVLHEN is equal across all counties\n",
      "G20GOVOWRI is equal across all counties\n",
      "G20AUDRGAL is equal across all counties\n",
      "G20AUDDHAR is equal across all counties\n",
      "G20AUDOWRI is equal across all counties\n",
      "G20TRERBEA is equal across all counties\n",
      "G20TREDHAU is equal across all counties\n",
      "G20TREOWRI is equal across all counties\n",
      "G20INSRGOD is equal across all counties\n",
      "G20INSOWRI is equal across all counties\n",
      "G20PSCRKRO is equal across all counties\n",
      "G20PSCDBUC is equal across all counties\n",
      "G20PSCOWRI is equal across all counties\n"
     ]
    }
   ],
   "source": [
    "county_totals_check(vest_shp,nd_20,data_columns,\"COUNTYFP\",full_print=False)"
   ]
  },
  {
   "cell_type": "markdown",
   "id": "d0b6b8e2",
   "metadata": {},
   "source": [
    "### Check Precinct Totals"
   ]
  },
  {
   "cell_type": "markdown",
   "id": "cd0eb79c",
   "metadata": {},
   "source": [
    "#### Create a 'join_col' in Both Files"
   ]
  },
  {
   "cell_type": "code",
   "execution_count": 20,
   "id": "c5a12f98",
   "metadata": {},
   "outputs": [
    {
     "name": "stdout",
     "output_type": "stream",
     "text": [
      "073-Precinct 4                  1\n",
      "003-Precinct 2415-00            1\n",
      "063-Precinct 1 Nelson County    1\n",
      "041-New England #3              1\n",
      "029-Precinct 3                  1\n",
      "                               ..\n",
      "079-Rolla #1                    1\n",
      "049-Precinct 47                 1\n",
      "061-Precinct 09                 1\n",
      "059-Precinct 03                 1\n",
      "097-Precinct 11                 1\n",
      "Name: join_col, Length: 422, dtype: int64\n",
      "073-Precinct 4                       1\n",
      "059-Precinct 36                      1\n",
      "057-Precinct 3313                    1\n",
      "017-2101 Robert D Johnson Rec Ctr    1\n",
      "063-Precinct 1 Nelson County         1\n",
      "                                    ..\n",
      "007-Precinct 03                      1\n",
      "025-Kyseth                           1\n",
      "059-Precinct 06                      1\n",
      "087-Pierce Church                    1\n",
      "047-Precinct 03 - Gackle School      1\n",
      "Name: join_col, Length: 422, dtype: int64\n"
     ]
    }
   ],
   "source": [
    "# Create a VEST join col\n",
    "vest_shp[\"join_col\"] = vest_shp[\"COUNTYFP\"]+\"-\"+vest_shp[\"PRECINCT\"]\n",
    "# Check to make sure it is unique\n",
    "print(vest_shp[\"join_col\"].value_counts(dropna=False))\n",
    "\n",
    "# Create an election results join col\n",
    "nd_20[\"join_col\"] = nd_20[\"COUNTYFP\"]+\"-\"+nd_20[\"Precinct\"]\n",
    "# Check to make sure it is unique\n",
    "print(nd_20[\"join_col\"].value_counts(dropna=False))"
   ]
  },
  {
   "cell_type": "markdown",
   "id": "40181a40",
   "metadata": {},
   "source": [
    "#### Join Attempt #1"
   ]
  },
  {
   "cell_type": "code",
   "execution_count": 21,
   "id": "8e4f0477",
   "metadata": {},
   "outputs": [
    {
     "data": {
      "text/plain": [
       "both          408\n",
       "left_only      14\n",
       "right_only     14\n",
       "Name: _merge, dtype: int64"
      ]
     },
     "execution_count": 21,
     "metadata": {},
     "output_type": "execute_result"
    }
   ],
   "source": [
    "join_attempt_one = pd.merge(vest_shp,nd_20,how=\"outer\",on=\"join_col\",indicator=True)\n",
    "join_attempt_one[\"_merge\"].value_counts()"
   ]
  },
  {
   "cell_type": "code",
   "execution_count": 22,
   "id": "c65765d7",
   "metadata": {},
   "outputs": [],
   "source": [
    "# Change Names to Perform Join\n",
    "election_vest_id_changes_dict = {'015-Century Baptist Church 4701': '015-Century Baptist 4701', '015-Century Baptist Church 4704': '015-Century Baptist 4704', '017-1604 Faith Journey Church': '017-1604 Journey In Faith Church', '017-4102 Northview Church (formerly First Assembly)': '017-4102 Northview Church', '047-Precinct 01- American Legion': '047-Precinct 01 - American Legion', '047-Precinct 02-American Legion': '047-Precinct 02 - American Legion', '047-Precinct 04 -Lehr Com Cent.': '047-Precinct 04 - Lehr Com Cent.', '065-Precinct 02-Center /West Side': '065-Precinct 02-Center/West Side', '069-Precinct 04- 1ST WARD 1ST': '069-Precinct 04 - 1ST WARD 1ST', '069-Precinct 05- 1ST WARD 2ND': '069-Precinct 05 - 1ST WARD 2ND', '069-Precinct 06 -2ND WARD': '069-Precinct 06 - 2ND WARD', '069-Precinct 07-3RD WARD': '069-Precinct 07 - 3RD WARD', '079- Rolla #1': '079-Rolla #1', '099-Precinct 2 -District 10': '099-Precinct 2 - District 10'}\n",
    "nd_20[\"join_col\"] = nd_20[\"join_col\"].map(election_vest_id_changes_dict).fillna(nd_20[\"join_col\"])"
   ]
  },
  {
   "cell_type": "markdown",
   "id": "38be5543",
   "metadata": {},
   "source": [
    "#### Join Attempt #2"
   ]
  },
  {
   "cell_type": "code",
   "execution_count": 23,
   "id": "87da1363",
   "metadata": {},
   "outputs": [
    {
     "name": "stdout",
     "output_type": "stream",
     "text": [
      "both          422\n",
      "left_only       0\n",
      "right_only      0\n",
      "Name: final_merge, dtype: int64\n"
     ]
    }
   ],
   "source": [
    "join_attempt_two = pd.merge(vest_shp,nd_20,how='outer',on=\"join_col\",indicator=\"final_merge\")\n",
    "print(join_attempt_two[\"final_merge\"].value_counts())"
   ]
  },
  {
   "cell_type": "markdown",
   "id": "9fa3eaa5",
   "metadata": {},
   "source": [
    "#### Check Results Precinct-by-Precinct "
   ]
  },
  {
   "cell_type": "code",
   "execution_count": 24,
   "id": "e4f523e2",
   "metadata": {},
   "outputs": [],
   "source": [
    "def validater_row (df, column_List):\n",
    "    matching_rows = 0\n",
    "    different_rows = 0\n",
    "    diff_list=[]\n",
    "    diff_values = []\n",
    "    max_diff = 0\n",
    "    for j in range(0,len(df.index)):\n",
    "        same = True\n",
    "        for i in column_List:\n",
    "            left_Data = i + \"_x\"\n",
    "            right_Data = i + \"_y\"\n",
    "            diff = abs(df.iloc[j][left_Data]-df.iloc[j][right_Data])\n",
    "            if(diff >0):\n",
    "                if(diff>0):\n",
    "                    print(i, \"{:.>72}\".format(df.iloc[j][\"join_col\"]), \"(V)\",\"{:.>5}\".format(int(df.iloc[j][left_Data])),\" (S){:.>5}\".format(int(df.iloc[j][right_Data])),\"(D):{:>5}\".format(int(df.iloc[j][right_Data])-int(df.iloc[j][left_Data])))           \n",
    "                #print(df.iloc[j]['countypct'])\n",
    "                \n",
    "                diff_values.append(abs(diff))\n",
    "                same = False\n",
    "                if(np.isnan(diff)):\n",
    "                    print(\"NaN value at diff is: \", df.iloc[j][\"join_col\"])\n",
    "                    print(df.iloc[j][left_Data])\n",
    "                    print(df.iloc[j][right_Data])\n",
    "                if (diff>max_diff):\n",
    "                    max_diff = diff\n",
    "                    #print(\"New max diff is: \", str(max_diff))\n",
    "                    #print(df.iloc[j]['cty_pct'])\n",
    "        if(same != True):\n",
    "            different_rows +=1\n",
    "            diff_list.append(df.iloc[j][\"join_col\"])\n",
    "        else:\n",
    "            matching_rows +=1\n",
    "    print(\"\")\n",
    "    print(\"There are \", len(df.index),\" total rows\")\n",
    "    print(different_rows,\" of these rows have election result differences\")\n",
    "    print(matching_rows,\" of these rows are the same\")\n",
    "    print(\"\")\n",
    "    print(\"The max difference between any one shared column in a row is: \", max_diff)\n",
    "    if(len(diff_values)!=0):\n",
    "        print(\"The average difference is: \", str(sum(diff_values)/len(diff_values)))\n",
    "    count_big_diff = len([i for i in diff_values if i > 10])\n",
    "    print(\"There are \", str(count_big_diff), \"precinct results with a difference greater than 10\")\n",
    "    diff_list.sort()\n",
    "    print(diff_list)"
   ]
  },
  {
   "cell_type": "code",
   "execution_count": 25,
   "id": "cd01338f",
   "metadata": {},
   "outputs": [
    {
     "name": "stdout",
     "output_type": "stream",
     "text": [
      "G20PRERTRU .........................................................059-Precinct 34 (V) .1349  (S)..140 (D):-1209\n",
      "G20PRERTRU .........................................................059-Precinct 18 (V) ..580  (S)..461 (D): -119\n",
      "G20PRERTRU .........................................................059-Precinct 32 (V) ..453  (S).1417 (D):  964\n",
      "G20PRERTRU .........................................................059-Precinct 23 (V) ..347  (S)..231 (D): -116\n",
      "G20PRERTRU .........................................................059-Precinct 17 (V) .1685  (S).1349 (D): -336\n",
      "G20PRERTRU .........................................................059-Precinct 20 (V) ..545  (S)..216 (D): -329\n",
      "G20PRERTRU .........................................................059-Precinct 24 (V) ..675  (S)..719 (D):   44\n",
      "G20PRERTRU .........................................................059-Precinct 02 (V) ..216  (S).1685 (D): 1469\n",
      "G20PRERTRU .........................................................059-Precinct 01 (V) ..461  (S).1447 (D):  986\n",
      "G20PRERTRU .........................................................059-Precinct 08 (V) ..140  (S)..411 (D):  271\n",
      "G20PRERTRU .........................................................059-Precinct 06 (V) .1417  (S)..675 (D): -742\n",
      "G20PRERTRU .........................................................059-Precinct 07 (V) ..723  (S)..453 (D): -270\n",
      "G20PRERTRU .........................................................059-Precinct 04 (V) ..719  (S)..545 (D): -174\n",
      "G20PRERTRU .........................................................059-Precinct 03 (V) ..231  (S)..580 (D):  349\n",
      "G20PRERTRU .........................................................059-Precinct 05 (V) .1447  (S)..347 (D):-1100\n",
      "G20PRERTRU .........................................................059-Precinct 33 (V) ..411  (S)..723 (D):  312\n",
      "\n",
      "There are  422  total rows\n",
      "16  of these rows have election result differences\n",
      "406  of these rows are the same\n",
      "\n",
      "The max difference between any one shared column in a row is:  1469\n",
      "The average difference is:  549.375\n",
      "There are  16 precinct results with a difference greater than 10\n",
      "['059-Precinct 01', '059-Precinct 02', '059-Precinct 03', '059-Precinct 04', '059-Precinct 05', '059-Precinct 06', '059-Precinct 07', '059-Precinct 08', '059-Precinct 17', '059-Precinct 18', '059-Precinct 20', '059-Precinct 23', '059-Precinct 24', '059-Precinct 32', '059-Precinct 33', '059-Precinct 34']\n"
     ]
    }
   ],
   "source": [
    "validater_row(join_attempt_two[join_attempt_two[\"final_merge\"]==\"both\"],data_columns)"
   ]
  },
  {
   "cell_type": "code",
   "execution_count": null,
   "id": "4efcfe0d",
   "metadata": {},
   "outputs": [],
   "source": []
  }
 ],
 "metadata": {
  "kernelspec": {
   "display_name": "Python 3",
   "language": "python",
   "name": "python3"
  },
  "language_info": {
   "codemirror_mode": {
    "name": "ipython",
    "version": 3
   },
   "file_extension": ".py",
   "mimetype": "text/x-python",
   "name": "python",
   "nbconvert_exporter": "python",
   "pygments_lexer": "ipython3",
   "version": "3.9.2"
  }
 },
 "nbformat": 4,
 "nbformat_minor": 5
}
